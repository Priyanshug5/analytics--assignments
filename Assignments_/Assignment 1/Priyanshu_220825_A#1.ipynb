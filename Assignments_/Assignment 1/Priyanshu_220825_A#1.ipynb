{
  "nbformat": 4,
  "nbformat_minor": 0,
  "metadata": {
    "colab": {
      "provenance": []
    },
    "kernelspec": {
      "name": "python3",
      "display_name": "Python 3"
    },
    "language_info": {
      "name": "python"
    }
  },
  "cells": [
    {
      "cell_type": "code",
      "execution_count": 8,
      "metadata": {
        "id": "fCgnNZzFt06q"
      },
      "outputs": [],
      "source": [
        "# Question 1\n",
        "import numpy as np25\n",
        "array = np25.array([[5,6,3],[15,7,3],[6,8,7]])"
      ]
    },
    {
      "cell_type": "code",
      "source": [
        "#Zero Array Q1.1\n",
        "np25.zeros((3,4), dtype = int)"
      ],
      "metadata": {
        "colab": {
          "base_uri": "https://localhost:8080/"
        },
        "id": "RjteY7tHvLtn",
        "outputId": "5173ecbd-624b-44a8-8f65-de76cc3d734b"
      },
      "execution_count": 9,
      "outputs": [
        {
          "output_type": "execute_result",
          "data": {
            "text/plain": [
              "array([[0, 0, 0, 0],\n",
              "       [0, 0, 0, 0],\n",
              "       [0, 0, 0, 0]])"
            ]
          },
          "metadata": {},
          "execution_count": 9
        }
      ]
    },
    {
      "cell_type": "code",
      "source": [
        "#Q1.2\n",
        "print('Element in the second row and third column =', array[1][2])"
      ],
      "metadata": {
        "colab": {
          "base_uri": "https://localhost:8080/"
        },
        "id": "GATlWvf2vPzn",
        "outputId": "f5f3b3ab-d2f6-4aae-d85f-4d74764eff67"
      },
      "execution_count": 10,
      "outputs": [
        {
          "output_type": "stream",
          "name": "stdout",
          "text": [
            "Element in the second row and third column = 3\n"
          ]
        }
      ]
    },
    {
      "cell_type": "code",
      "source": [
        "#Q1.3\n",
        "for i in range(3):\n",
        "    print('Max of Row', i+1, '=', np25.max(array[i]))"
      ],
      "metadata": {
        "colab": {
          "base_uri": "https://localhost:8080/"
        },
        "id": "fcCs_tkBvV2E",
        "outputId": "7c6cdc71-a2dd-4f7b-bab8-196387416519"
      },
      "execution_count": 11,
      "outputs": [
        {
          "output_type": "stream",
          "name": "stdout",
          "text": [
            "Max of Row 1 = 6\n",
            "Max of Row 2 = 15\n",
            "Max of Row 3 = 8\n"
          ]
        }
      ]
    },
    {
      "cell_type": "code",
      "source": [
        "#Q1.4\n",
        "for i in range(3):\n",
        "    print('Mean of Row', i+1, '=',np25.mean(array[i]))"
      ],
      "metadata": {
        "colab": {
          "base_uri": "https://localhost:8080/"
        },
        "id": "gr5hEwkQvcRy",
        "outputId": "9411dc99-88d6-4043-b820-beee0850e29d"
      },
      "execution_count": 12,
      "outputs": [
        {
          "output_type": "stream",
          "name": "stdout",
          "text": [
            "Mean of Row 1 = 4.666666666666667\n",
            "Mean of Row 2 = 8.333333333333334\n",
            "Mean of Row 3 = 7.0\n"
          ]
        }
      ]
    },
    {
      "cell_type": "code",
      "source": [
        "#Q1.5\n",
        "print('Subarray:')\n",
        "for i in range(2):\n",
        "    print(array[i])"
      ],
      "metadata": {
        "colab": {
          "base_uri": "https://localhost:8080/"
        },
        "id": "-NI7SADnvh-2",
        "outputId": "e0a00e79-7be8-482b-c1b6-90d39d407a34"
      },
      "execution_count": 13,
      "outputs": [
        {
          "output_type": "stream",
          "name": "stdout",
          "text": [
            "Subarray:\n",
            "[5 6 3]\n",
            "[15  7  3]\n"
          ]
        }
      ]
    },
    {
      "cell_type": "code",
      "source": [
        "#Q2\n",
        "data = [5, 3, 7, 3, 3, 6, 19, 8, 4, 1]\n"
      ],
      "metadata": {
        "id": "6rLJK7AAvsii"
      },
      "execution_count": 14,
      "outputs": []
    },
    {
      "cell_type": "code",
      "source": [
        "#Mean\n",
        "mean = np25.mean(data)\n",
        "print('Mean =', mean)"
      ],
      "metadata": {
        "colab": {
          "base_uri": "https://localhost:8080/"
        },
        "id": "HsjquH5jvxHh",
        "outputId": "1d0ca1fb-b864-498e-b5bd-62d80999bae9"
      },
      "execution_count": 15,
      "outputs": [
        {
          "output_type": "stream",
          "name": "stdout",
          "text": [
            "Mean = 5.9\n"
          ]
        }
      ]
    },
    {
      "cell_type": "code",
      "source": [
        "#Median\n",
        "median = np25.median(data)\n",
        "print('Median =', median)"
      ],
      "metadata": {
        "colab": {
          "base_uri": "https://localhost:8080/"
        },
        "id": "UDwb07Jev3a1",
        "outputId": "1699231f-692f-4416-e40d-42f442c6edcf"
      },
      "execution_count": 16,
      "outputs": [
        {
          "output_type": "stream",
          "name": "stdout",
          "text": [
            "Median = 4.5\n"
          ]
        }
      ]
    },
    {
      "cell_type": "code",
      "source": [
        "#Mode\n",
        "count = np25.unique(data, return_counts=True)\n",
        "index = np25.argmax(count[1])\n",
        "mode = (count[0])[index]\n",
        "print('Mode =', mode)"
      ],
      "metadata": {
        "colab": {
          "base_uri": "https://localhost:8080/"
        },
        "id": "7c0MIcVyv-s9",
        "outputId": "e83de069-39da-456a-b68e-07477ce368e8"
      },
      "execution_count": 17,
      "outputs": [
        {
          "output_type": "stream",
          "name": "stdout",
          "text": [
            "Mode = 3\n"
          ]
        }
      ]
    },
    {
      "cell_type": "code",
      "source": [
        "#Interquartile Range\n",
        "sorted_data = np25.sort(data)\n",
        "q1 = np25.percentile(sorted_data, 25)\n",
        "q3 = np25.percentile(sorted_data, 75)\n",
        "iqr=q3-q1\n",
        "print('Interquartile Range =', iqr)"
      ],
      "metadata": {
        "colab": {
          "base_uri": "https://localhost:8080/"
        },
        "id": "AArLHJ_EwDZH",
        "outputId": "302076de-d5f0-4590-9503-b62ca35af750"
      },
      "execution_count": 18,
      "outputs": [
        {
          "output_type": "stream",
          "name": "stdout",
          "text": [
            "Interquartile Range = 3.75\n"
          ]
        }
      ]
    },
    {
      "cell_type": "code",
      "source": [
        "#Outliers\n",
        "l_bound = mean - iqr\n",
        "u_bound = mean + iqr\n",
        "key = 0\n",
        "for i in data:\n",
        "    if(data[i] > u_bound or data[i] < l_bound):\n",
        "        print(\"Outlier Exists\")\n",
        "        key = 1\n",
        "        break\n",
        "\n",
        "if(key==0):\n",
        "    print(\"Outlier Does Not Exist\")"
      ],
      "metadata": {
        "colab": {
          "base_uri": "https://localhost:8080/"
        },
        "id": "vcBq9kQvwJ6B",
        "outputId": "2b88e4fc-d51e-48cc-fb0a-4dcc6324e5cc"
      },
      "execution_count": 19,
      "outputs": [
        {
          "output_type": "stream",
          "name": "stdout",
          "text": [
            "Outlier Exists\n"
          ]
        }
      ]
    },
    {
      "cell_type": "code",
      "source": [
        "#Q3\n",
        "import pandas as pd25\n",
        "column = pd25.DataFrame({\"\":['Name', 'Age', 'Roll Number']})\n",
        "print(column.head())"
      ],
      "metadata": {
        "colab": {
          "base_uri": "https://localhost:8080/"
        },
        "id": "l18KmkNnwPj2",
        "outputId": "06ddecdf-34c6-43d9-849a-48c56498a7bc"
      },
      "execution_count": 20,
      "outputs": [
        {
          "output_type": "stream",
          "name": "stdout",
          "text": [
            "              \n",
            "0         Name\n",
            "1          Age\n",
            "2  Roll Number\n"
          ]
        }
      ]
    },
    {
      "cell_type": "code",
      "source": [
        "#Anagram\n",
        "string_1 = input('String 1: ')\n",
        "string_2 = input('String 2: ')\n",
        "\n",
        "sort_str1 = sorted(string_1)\n",
        "sort_str2 = sorted(string_2)\n",
        "\n",
        "if(sort_str1 == sort_str2):\n",
        "    print(\"Anagram\")\n",
        "else:\n",
        "    print(\"Not Anagram\")"
      ],
      "metadata": {
        "colab": {
          "base_uri": "https://localhost:8080/"
        },
        "id": "vRDO__6-wT5N",
        "outputId": "f61a1c7b-4da6-4f5c-d8f4-9131b7df5c18"
      },
      "execution_count": 21,
      "outputs": [
        {
          "output_type": "stream",
          "name": "stdout",
          "text": [
            "String 1: rajas\n",
            "String 2: raasj\n",
            "Anagram\n"
          ]
        }
      ]
    }
  ]
}