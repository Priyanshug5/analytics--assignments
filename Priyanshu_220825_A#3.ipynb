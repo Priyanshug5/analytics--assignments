{
  "cells": [
    {
      "attachments": {},
      "cell_type": "markdown",
      "metadata": {
        "id": "KBC-TeRWnwQX"
      },
      "source": [
        "### **Question 1: Linear Regression**\n",
        "a) Load the \"Boston Housing\" dataset from scikit-learn's built-in datasets.\n",
        "\n",
        "b) Split the data into training and testing sets.\n",
        "\n",
        "if your roll number is even then\n",
        "(80% training, 20% testing).\n",
        "\n",
        "if your roll number is odd then\n",
        "(70% training, 30% testing).\n",
        "\n",
        "c) Train a linear regression model on the training data and make predictions on the testing data.\n",
        "\n",
        "d) Calculate the mean squared error (MSE) between the predicted and actual values."
      ]
    },
    {
      "cell_type": "code",
      "execution_count": null,
      "metadata": {
        "id": "oPQXrvkpnuck"
      },
      "outputs": [],
      "source": [
        "from sklearn import datasets\n",
        "from sklearn.model_selection import train_test_split\n",
        "from sklearn.linear_model import LinearRegression\n",
        "\n",
        "import pandas as pd\n",
        "import numpy as np\n",
        "\n",
        "\n",
        "data_url = \"http://lib.stat.cmu.edu/datasets/boston\"\n",
        "raw_df = pd.read_csv(data_url, sep=\"\\s+\", skiprows=22, header=None)\n",
        "data = np.hstack([raw_df.values[::2, :], raw_df.values[1::2, :2]])\n",
        "target = raw_df.values[1::2, 2]\n",
        "\n",
        "\n",
        "X = data\n",
        "y = target\n",
        "\n",
        "roll_number = 220825 \n",
        "# Set the test size\n",
        "test_size = 0.3 \n",
        "# Split the data into training and testing sets\n",
        "X_train, X_test, y_train, y_test = train_test_split(X, y, test_size=test_size, random_state=42)\n",
        "\n",
        "# Train a linear regression model\n",
        "model = LinearRegression()\n",
        "model.fit(X_train, y_train)\n",
        "\n",
        "# Make predictions on the testing data\n",
        "y_pred = model.predict(X_test)\n",
        "\n",
        "# Calculate the mean squared error\n",
        "mse = np.mean((y_pred - y_test) ** 2)\n",
        "\n",
        "# print(\"Mean Squared Error:\", mse)\n",
        "print(\"Mean Squared Error:\", mse)"
      ]
    },
    {
      "attachments": {},
      "cell_type": "markdown",
      "metadata": {
        "id": "YSS5rTA4pTvS"
      },
      "source": [
        "# **Question 2: L1 Regularization (Lasso)**\n",
        "a) Load the \"Diabetes\" dataset from scikit-learn's built-in datasets.\n",
        "\n",
        "b) Split the data into training and testing sets.\n",
        "\n",
        "if your roll number is even then (80% training, 20% testing).\n",
        "\n",
        "if your roll number is odd then (70% training, 30% testing).\n",
        "\n",
        "c) Train a Lasso regression model on the training data with an alpha value of 0.1.\n",
        "\n",
        "***Model name should be your first name***\n",
        "\n",
        "d) Evaluate the model's performance using the mean squared error (MSE) on the testing data.\n",
        "\n",
        "e) Identify the features that were selected (non-zero coefficients) by the Lasso model."
      ]
    },
    {
      "cell_type": "code",
      "execution_count": null,
      "metadata": {
        "id": "PQlyXVneoNzi"
      },
      "outputs": [],
      "source": [
        "from sklearn.datasets import load_diabetes\n",
        "from sklearn.model_selection import train_test_split\n",
        "from sklearn.linear_model import Lasso\n",
        "from sklearn.metrics import mean_squared_error\n",
        "import numpy as np\n",
        "\n",
        "# Load the Diabetes dataset\n",
        "diabetes = load_diabetes()\n",
        "X = diabetes.data\n",
        "y = diabetes.target\n",
        "\n",
        "# Define the train-test split ratio based on the roll number\n",
        "roll_number = 220825 \n",
        "# Set the test size\n",
        "test_size = 0.3 \n",
        "\n",
        "# Split the data into training and testing sets\n",
        "X_train, X_test, y_train, y_test = train_test_split(X, y, test_size=test_size, random_state=42)\n",
        "\n",
        "# Train a Lasso regression model with alpha=0.1\n",
        "model = Lasso(alpha=0.1)\n",
        "model.fit(X_train, y_train)\n",
        "\n",
        "# Evaluate the model's performance on the testing data\n",
        "y_pred = model.predict(X_test)\n",
        "mse = mean_squared_error(y_test, y_pred)\n",
        "\n",
        "print(\"Mean Squared Error:\", mse)\n",
        "\n",
        "# Get the non-zero coefficients (selected features) by the Lasso model\n",
        "selected_features = np.nonzero(model.coef_)[0]\n",
        "\n",
        "print(\"Selected Features (non-zero coefficients):\")\n",
        "for feature_idx in selected_features:\n",
        "print(diabetes.feature_names[feature_idx])\n"
      ]
    },
    {
      "attachments": {},
      "cell_type": "markdown",
      "metadata": {
        "id": "LPm7ty0SpplH"
      },
      "source": [
        "# **Question 3: L2 Regularization (Ridge)**\n",
        "a) Load the \"California Housing\" dataset from an online source (e.g., Kaggle).\n",
        "*housing.csv* written\n",
        "\n",
        "b) Perform any necessary preprocessing steps, such as handling missing values or scaling the features.\n",
        "\n",
        "c) Split the data into training and testing sets.\n",
        "\n",
        "if your roll number is prime (last two digits) then (85% training, 15% testing).\n",
        "\n",
        "if your roll number is not prime (last two digits) then (75% training, 35% testing).\n",
        "\n",
        "d) Train a Ridge regression model on the training data with an alpha value of 0.01.\n",
        "\n",
        "e) Calculate the mean squared error (MSE) on the testing data to assess the model's performance."
      ]
    },
    {
      "cell_type": "code",
      "execution_count": null,
      "metadata": {
        "id": "YZjj1ogDpjz7"
      },
      "outputs": [],
      "source": [
        "\n",
        "\n",
        "# Load the California Housing dataset from an online source (e.g., Kaggle)\n",
        "data = pd.read_csv('/content/housing.csv')\n"
      ]
    },
    {
      "cell_type": "code",
      "execution_count": null,
      "metadata": {
        "id": "dYhx67XpqtUH"
      },
      "outputs": [],
      "source": [
        "import pandas as pd\n",
        "from sklearn.model_selection import train_test_split\n",
        "from sklearn.linear_model import Ridge\n",
        "from sklearn.metrics import mean_squared_error\n",
        "from sklearn.preprocessing import StandardScaler\n",
        "\n",
        "# Perform preprocessing steps, such as handling missing values or scaling the features\n",
        "\n",
        "# Assuming 'target' represents the target variable and the rest are features\n",
        "features = data.drop('target', axis=1)\n",
        "target = data['target']\n",
        "\n",
        "# Split the data into training and testing sets based on the roll number\n",
        "# Define the train-test split ratio based on the roll number\n",
        "roll_number = 220825 \n",
        "# Set the test size\n",
        "test_size = 0.35\n",
        "\n",
        "X_train, X_test, y_train, y_test = train_test_split(features, target, test_size=test_size, random_state=42)\n",
        "\n",
        "# Perform feature scaling using StandardScaler\n",
        "scaler = StandardScaler()\n",
        "X_train_scaled = scaler.fit_transform(X_train)\n",
        "X_test_scaled = scaler.transform(X_test)\n",
        "\n",
        "# Train a Ridge regression model with alpha=0.01\n",
        "model = Ridge(alpha=0.01)\n",
        "model.fit(X_train_scaled, y_train)\n",
        "\n",
        "# Evaluate the model's performance on the testing data\n",
        "y_pred = model.predict(X_test_scaled)\n",
        "mse = mean_squared_error(y_test, y_pred)\n",
        "\n",
        "print(\"Mean Squared Error:\", mse)\n"
      ]
    }
  ],
  "metadata": {
    "colab": {
      "provenance": []
    },
    "kernelspec": {
      "display_name": "Python 3",
      "name": "python3"
    },
    "language_info": {
      "name": "python"
    }
  },
  "nbformat": 4,
  "nbformat_minor": 0
}
