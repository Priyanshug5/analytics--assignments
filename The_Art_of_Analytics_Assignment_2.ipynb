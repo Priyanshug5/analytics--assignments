{
  "cells": [
    {
      "attachments": {},
      "cell_type": "markdown",
      "metadata": {
        "id": "LQ1oKO-50JbL"
      },
      "source": [
        "Welcome to your second assignment of **The Art of Analytics**."
      ]
    },
    {
      "attachments": {},
      "cell_type": "markdown",
      "metadata": {
        "id": "UVmgqXah0TuC"
      },
      "source": [
        "Start by importing all important libraries but as we did in last assignment, add the last two digits of your roll number too. (Example : import numpy as np68)\n",
        "Also comment your roll number here itself"
      ]
    },
    {
      "cell_type": "code",
      "execution_count": null,
      "metadata": {},
      "outputs": [],
      "source": [
        "import numpy as np25"
      ]
    },
    {
      "cell_type": "code",
      "execution_count": 30,
      "metadata": {
        "id": "gvZaqJtO0Ejw"
      },
      "outputs": [],
      "source": [
        "import pandas as pd"
      ]
    },
    {
      "attachments": {},
      "cell_type": "markdown",
      "metadata": {
        "id": "a4i7EXfC05PD"
      },
      "source": [
        "Read the csv file and assign it to a variable"
      ]
    },
    {
      "cell_type": "code",
      "execution_count": 30,
      "metadata": {
        "id": "vomLtqc804QH"
      },
      "outputs": [],
      "source": [
        "match = pd.read_csv('IPL_MATCHES_2008_2022.csv')  "
      ]
    },
    {
      "attachments": {},
      "cell_type": "markdown",
      "metadata": {
        "id": "grUSex411NYa"
      },
      "source": [
        "Display shape of dataframe"
      ]
    },
    {
      "cell_type": "code",
      "execution_count": 30,
      "metadata": {
        "id": "I33mgVPU1K9a"
      },
      "outputs": [],
      "source": [
        "print(\"Shape of the dataframe:\", match.shape)"
      ]
    },
    {
      "attachments": {},
      "cell_type": "markdown",
      "metadata": {
        "id": "fdXvpgmP1QsX"
      },
      "source": [
        "Print all columns of dataframe"
      ]
    },
    {
      "cell_type": "code",
      "execution_count": 30,
      "metadata": {
        "id": "silNKzfB1Pwr"
      },
      "outputs": [],
      "source": [
        "print(\"Columns of the dataframe:\")\n",
        "for column in match.columns:\n",
        "    print(column)"
      ]
    },
    {
      "attachments": {},
      "cell_type": "markdown",
      "metadata": {
        "id": "UaCYGy811XeL"
      },
      "source": [
        "Remove the column 'ID' and update the dataframe."
      ]
    },
    {
      "cell_type": "code",
      "execution_count": 30,
      "metadata": {
        "id": "qtH-yeKZ1UdR"
      },
      "outputs": [],
      "source": [
        "match = match.drop('ID', axis=1)"
      ]
    },
    {
      "attachments": {},
      "cell_type": "markdown",
      "metadata": {
        "id": "oQZeNWo61jm5"
      },
      "source": [
        "Set the 'WinningTeam' column as the index of dataframe"
      ]
    },
    {
      "cell_type": "code",
      "execution_count": 30,
      "metadata": {
        "id": "VjCD3MAA1i_S"
      },
      "outputs": [],
      "source": [
        "match.set_index('WinningTeam', inplace=True)"
      ]
    },
    {
      "attachments": {},
      "cell_type": "markdown",
      "metadata": {
        "id": "1Q7gI4zk1x18"
      },
      "source": [
        "Print a list of all the unique Venue"
      ]
    },
    {
      "cell_type": "code",
      "execution_count": 30,
      "metadata": {
        "id": "HSjRUpME1uzG"
      },
      "outputs": [],
      "source": [
        "unique_venues = match['Venue'].unique()\n",
        "print(\"List of unique venues:\")\n",
        "for venue in unique_venues:\n",
        "    print(venue)\n"
      ]
    },
    {
      "attachments": {},
      "cell_type": "markdown",
      "metadata": {
        "id": "IPDXA_MZ2T7W"
      },
      "source": [
        "What is the Number of unique Player of the Match in the given dataset ?"
      ]
    },
    {
      "cell_type": "code",
      "execution_count": 30,
      "metadata": {
        "id": "Y_Zf8h252MHg"
      },
      "outputs": [],
      "source": [
        "unique_players_of_match = match['Player of the Match'].nunique()\n",
        "print(\"Number of unique players of the match:\", unique_players_of_match)"
      ]
    },
    {
      "attachments": {},
      "cell_type": "markdown",
      "metadata": {
        "id": "R9GLp5u72i9V"
      },
      "source": [
        "What is the mean, median and standard deviation of 'Margin' in the \n",
        "dataset ?"
      ]
    },
    {
      "cell_type": "code",
      "execution_count": 30,
      "metadata": {
        "id": "Q4A9-OA_2gOW"
      },
      "outputs": [],
      "source": [
        "mean_margin = match['Margin'].mean()\n",
        "median_margin = match['Margin'].median()\n",
        "std_margin = match['Margin'].std()\n",
        "\n",
        "print(\"Mean Margin:\", mean_margin)\n",
        "print(\"Median Margin:\", median_margin)\n",
        "print(\"Standard Deviation of Margin:\", std_margin)"
      ]
    },
    {
      "attachments": {},
      "cell_type": "markdown",
      "metadata": {
        "id": "6Bw9SiNa2zQ2"
      },
      "source": [
        "Which player has received the most number of Player of the match award?"
      ]
    },
    {
      "cell_type": "code",
      "execution_count": 30,
      "metadata": {
        "id": "CHi8pWOk2xo9"
      },
      "outputs": [],
      "source": [
        "player_of_match_counts = df['Player_of_the_Match'].value_counts()\n",
        "most_player_of_match = player_of_match_counts.idxmax()\n",
        "\n",
        "print(\"Player with the most Player of the Match awards:\", most_player_of_match)"
      ]
    },
    {
      "attachments": {},
      "cell_type": "markdown",
      "metadata": {
        "id": "mfkfPMkM3AjX"
      },
      "source": [
        "Name the Team which has the highest Margin of Win ?"
      ]
    },
    {
      "cell_type": "code",
      "execution_count": 30,
      "metadata": {
        "id": "UEAtsLxo29pY"
      },
      "outputs": [],
      "source": [
        "max_margin_index = df['Margin'].idxmax()\n",
        "winning_team = df.loc[max_margin_index, 'Team 1']\n",
        "\n",
        "print(\"Team with the highest Margin of Win:\", winning_team)"
      ]
    },
    {
      "attachments": {},
      "cell_type": "markdown",
      "metadata": {
        "id": "Nnu_nSPZ3Oul"
      },
      "source": [
        "Make a pie chart to analyse Teams (Either Team 1 or Team 2) with mumber of match played?\n",
        "Label the Pie Chart."
      ]
    },
    {
      "cell_type": "code",
      "execution_count": 30,
      "metadata": {
        "id": "TGC68B_F3JIx"
      },
      "outputs": [],
      "source": [
        "\n",
        "import matplotlib.pyplot as plt\n",
        "\n",
        "team_counts = df['Team 1'].value_counts()\n",
        "\n",
        "plt.fig(figsize=(10, 6))\n",
        "plt.pie(team_counts, labels=team_counts.index, autopct='%1.1f%%')\n",
        "plt.title(\"Number of Matches Played by Each Team\")\n",
        "plt.axis('equal')\n",
        "plt.show()\n"
      ]
    },
    {
      "attachments": {},
      "cell_type": "markdown",
      "metadata": {
        "id": "VEnNLaEG5iY5"
      },
      "source": [
        "Bar chart of Umpires (U can use Umpire 1 or Umpire 2, ur choice) and number of match they umpired? \n",
        "Set figure size as (100,20)"
      ]
    },
    {
      "cell_type": "code",
      "execution_count": 30,
      "metadata": {
        "id": "P4nBESUx4eND"
      },
      "outputs": [],
      "source": [
        "import matplotlib.pyplot as plt\n",
        "\n",
        "umpire_counts = df['Umpire 1'].value_counts()\n",
        "\n",
        "plt.figure(figsize=(100, 20))\n",
        "\n",
        "umpire_counts.plot(kind='bar')\n",
        "plt.xlabel('Umpire')\n",
        "plt.ylabel('Number of Matches Umpired')\n",
        "plt.title('Number of Matches Umpired by Each Umpire')\n",
        "\n",
        "plt.show()"
      ]
    },
    {
      "attachments": {},
      "cell_type": "markdown",
      "metadata": {
        "id": "iuXe0ljn9YdY"
      },
      "source": [
        "Any Comment?"
      ]
    },
    {
      "cell_type": "code",
      "execution_count": null,
      "metadata": {
        "id": "bJ2si-bB6bCQ"
      },
      "outputs": [],
      "source": [
        "No"
      ]
    }
  ],
  "metadata": {
    "colab": {
      "provenance": []
    },
    "kernelspec": {
      "display_name": "Python 3",
      "name": "python3"
    },
    "language_info": {
      "codemirror_mode": {
        "name": "ipython",
        "version": 3
      },
      "file_extension": ".py",
      "mimetype": "text/x-python",
      "name": "python",
      "nbconvert_exporter": "python",
      "pygments_lexer": "ipython3",
      "version": "3.10.9"
    }
  },
  "nbformat": 4,
  "nbformat_minor": 0
}
