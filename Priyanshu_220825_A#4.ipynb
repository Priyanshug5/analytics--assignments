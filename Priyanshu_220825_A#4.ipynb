{
  "cells": [
    {
      "cell_type": "code",
      "execution_count": null,
      "metadata": {
        "id": "s0qOPwlKHYUQ"
      },
      "outputs": [],
      "source": []
    },
    {
      "attachments": {},
      "cell_type": "markdown",
      "metadata": {
        "id": "YcK9lcoMHvuD"
      },
      "source": [
        "**Assignment: Gaussian Naive Bayes for Titanic Survival Prediction**\n",
        "\n",
        "Instructions:\n",
        "\n",
        "You are required to write Python code to solve the given problems.\n",
        "\n",
        "Use the scikit-learn library for implementing Gaussian Naive Bayes.\n",
        "\n",
        "Comment your code appropriately for better understanding.\n",
        "\n",
        "Submit the Python script with the completed code."
      ]
    },
    {
      "attachments": {},
      "cell_type": "markdown",
      "metadata": {
        "id": "Jwl3CxpRIFTQ"
      },
      "source": [
        "1. Load the \"Titanic\" dataset using pandas and explore its structure and contents. Show the result.\n",
        "2. Perform data preprocessing tasks such as handling missing values, feature selection, and feature encoding. Consider using techniques like imputation for missing values and one-hot encoding for categorical variables.\n",
        "3. Split the dataset into training and testing sets.\n",
        "\n",
        "*Use 7x% of the data for training and (100 - 7x)% for testing.*\n",
        "\n",
        "**[x = 2nd last digit of your roll number]**\n",
        "\n",
        "*comment your roll number and 2nd last digit*\n",
        "\n",
        "4. Implement Gaussian Naive Bayes using the training set. Train the model on the selected features and the corresponding target variable (Survived).\n",
        "5. Apply the trained model to make predictions on the testing set.\n",
        "6. Evaluate the performance of the Gaussian Naive Bayes model by calculating metrics such as accuracy, precision, recall, and F1-score. Interpret the results and analyze the model's effectiveness. (Be creative here)\n",
        "7. Any chart that you want to implement , do it (Bonus)"
      ]
    },
    {
      "cell_type": "code",
      "execution_count": null,
      "metadata": {
        "id": "heyluBLrJ2cU"
      },
      "outputs": [],
      "source": [
        "\n",
        "import pandas as pd\n",
        "\n",
        "# Load the dataset\n",
        "titanic_data = pd.read_csv('titanic.csv')\n",
        "\n",
        "# Explore the structure of the dataset\n",
        "print(titanic_data.head())  \n",
        "print(titanic_data.info())  \n",
        "\n",
        "# 2. \n",
        "# fill missing values in the 'Age' column with the median age\n",
        "titanic_data['Age'].fillna(titanic_data['Age'].median(), inplace=True)\n",
        "\n",
        "# Feature selection\n",
        "selected_features = ['Pclass', 'Sex', 'Age', 'Fare', 'Embarked'] \n",
        "\n",
        "# Feature encoding \n",
        "titanic_data = pd.get_dummies(titanic_data, columns=['Sex', 'Embarked'])\n",
        "\n",
        "# 3. Split the dataset into training and testing sets.\n",
        "\n",
        "from sklearn.model_selection import train_test_split\n",
        "\n",
        "X = titanic_data[selected_features]\n",
        "y = titanic_data['Survived']\n",
        "\n",
        "# Use 14% of the data for training and 86% for testing (\n",
        "x = 2   # the 2nd last digit of  roll number(220825)\n",
        "train_size = 0.07 * x  # Calculate the training set size\n",
        "test_size = 1 - train_size  # Calculate the testing set size\n",
        "\n",
        "train_X, test_X, train_y, test_y = train_test_split(X, y, test_size=test_size, random_state=42)\n",
        "\n",
        "\n",
        "# 4. Implement Gaussian Naive Bayes\n",
        "\n",
        "from sklearn.naive_bayes import GaussianNB\n",
        "\n",
        "# Create the Gaussian Naive Bayes model\n",
        "model = GaussianNB()\n",
        "\n",
        "# Train the model on the training set\n",
        "model.fit(train_X, train_y)\n",
        "\n",
        "# 5. Apply the trained model \n",
        "\n",
        "predictions = model.predict(test_X)\n",
        "\n",
        "# 6. Evaluate the performance of the Gaussian Naive Bayes model\n",
        "\n",
        "from sklearn.metrics import accuracy_score, precision_score, recall_score, f1_score\n",
        "\n",
        "accuracy = accuracy_score(test_y, predictions)\n",
        "precision = precision_score(test_y, predictions)\n",
        "recall = recall_score(test_y, predictions)\n",
        "f1 = f1_score(test_y, predictions)\n",
        "\n",
        "# Interpret the results and analyze the model's effectiveness\n",
        "\n",
        "print(\"Accuracy: {:.2f}%\".format(accuracy * 100))\n",
        "print(\"Precision: {:.2f}%\".format(precision * 100))\n",
        "print(\"Recall: {:.2f}%\".format(recall * 100))\n",
        "print(\"F1-score: {:.2f}%\".format(f1 * 100))\n",
        "\n",
        "# 7. Bonus: \n",
        "\n",
        "import matplotlib.pyplot as plt\n",
        "\n",
        "# Count the number of survivors and non-survivors\n",
        "survivors = titanic_data['Survived'].value_counts()\n",
        "\n",
        "# Plot a bar chart\n",
        "plt.bar(['Not Survived', 'Survived'], survivors)\n",
        "plt.xlabel('Survival Status')\n",
        "plt.ylabel('Count')\n",
        "plt.title('Survival Distribution')\n",
        "plt.show()\n"
      ]
    }
  ],
  "metadata": {
    "colab": {
      "provenance": []
    },
    "kernelspec": {
      "display_name": "Python 3",
      "name": "python3"
    },
    "language_info": {
      "name": "python"
    }
  },
  "nbformat": 4,
  "nbformat_minor": 0
}
